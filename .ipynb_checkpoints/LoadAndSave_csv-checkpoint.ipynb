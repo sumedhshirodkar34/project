{
 "cells": [
  {
   "cell_type": "code",
   "execution_count": 1,
   "metadata": {},
   "outputs": [],
   "source": [
    "import pyspark"
   ]
  },
  {
   "cell_type": "code",
   "execution_count": 2,
   "metadata": {},
   "outputs": [],
   "source": [
    "from pyspark import SparkContext"
   ]
  },
  {
   "cell_type": "code",
   "execution_count": 3,
   "metadata": {},
   "outputs": [],
   "source": [
    "sc = SparkContext.getOrCreate()"
   ]
  },
  {
   "cell_type": "code",
   "execution_count": 26,
   "metadata": {},
   "outputs": [],
   "source": [
    "# If pip is not up-to-date\n",
    "# !python -m pip install --upgrade pip"
   ]
  },
  {
   "cell_type": "code",
   "execution_count": 24,
   "metadata": {},
   "outputs": [
    {
     "name": "stdout",
     "output_type": "stream",
     "text": [
      "Collecting pandas\n",
      "  Downloading pandas-1.0.3-cp37-cp37m-win32.whl (7.5 MB)\n",
      "Collecting numpy>=1.13.3\n",
      "  Downloading numpy-1.18.3-cp37-cp37m-win32.whl (10.8 MB)\n",
      "Collecting pytz>=2017.2\n",
      "  Downloading pytz-2019.3-py2.py3-none-any.whl (509 kB)\n",
      "Requirement already satisfied: python-dateutil>=2.6.1 in c:\\users\\lenovo\\appdata\\local\\programs\\python\\python37-32\\lib\\site-packages (from pandas) (2.8.0)\n",
      "Requirement already satisfied: six>=1.5 in c:\\users\\lenovo\\appdata\\local\\programs\\python\\python37-32\\lib\\site-packages (from python-dateutil>=2.6.1->pandas) (1.12.0)\n",
      "Installing collected packages: numpy, pytz, pandas\n",
      "Successfully installed numpy-1.18.3 pandas-1.0.3 pytz-2019.3\n"
     ]
    }
   ],
   "source": [
    "# If pandas library not present \n",
    "!pip install pandas"
   ]
  },
  {
   "cell_type": "code",
   "execution_count": 6,
   "metadata": {},
   "outputs": [],
   "source": [
    "import csv \n",
    "# from io import StringIO\n",
    "import pandas as pd "
   ]
  },
  {
   "cell_type": "code",
   "execution_count": 12,
   "metadata": {},
   "outputs": [],
   "source": [
    "'''\n",
    "def loadCSVFile(line):\n",
    "    input = StringIO.StringIO(line)\n",
    "    reader = csv.DictReader(input, fieldnames=[\"game_id\" , \"season\" , \"type\" , \"date_time\" , \"away_team_id\" , \"home_team_id\" , \n",
    "                                               \"away_goals\" , \"home_goals\" , \"outcome\" , \"home_rink_side_start\" , \"venue\" , \n",
    "                                               \"venue_link\" , \"venue_time_zone_id\" , \"venue_time_zone_offset\" , \n",
    "                                               \"venue_time_zone_tz\"])\n",
    "    return reader.next()\n",
    "'''"
   ]
  },
  {
   "cell_type": "code",
   "execution_count": 15,
   "metadata": {},
   "outputs": [],
   "source": [
    "# inputRDD = sc.textFile(\"game.csv\").map(loadCSVFile) "
   ]
  },
  {
   "cell_type": "code",
   "execution_count": 7,
   "metadata": {},
   "outputs": [],
   "source": [
    "# Using mapPartitions  \n",
    "# here map will not work it throws error - can't pickel \n",
    "inputmapPartitionsRDD = sc.textFile(\"game.csv\").mapPartitions(lambda x : csv.reader(x))"
   ]
  },
  {
   "cell_type": "code",
   "execution_count": null,
   "metadata": {},
   "outputs": [],
   "source": [
    "# Read CSV file Using Flatmap \n",
    "inputFlapMapRDD = sc.textFile(\"game.csv\").flatMap(lambda x : csv.reader([x]))"
   ]
  },
  {
   "cell_type": "code",
   "execution_count": 12,
   "metadata": {},
   "outputs": [],
   "source": [
    "# Using spilt on new line \n",
    "inputMapRDD = sc.textFile(\"game.csv\").flatMap(lambda x : x.split(\"\\n\"))"
   ]
  },
  {
   "cell_type": "code",
   "execution_count": 38,
   "metadata": {},
   "outputs": [
    {
     "data": {
      "text/plain": [
       "[['game_id',\n",
       "  'season',\n",
       "  'type',\n",
       "  'date_time',\n",
       "  'away_team_id',\n",
       "  'home_team_id',\n",
       "  'away_goals',\n",
       "  'home_goals',\n",
       "  'outcome',\n",
       "  'home_rink_side_start',\n",
       "  'venue',\n",
       "  'venue_link',\n",
       "  'venue_time_zone_id',\n",
       "  'venue_time_zone_offset',\n",
       "  'venue_time_zone_tz'],\n",
       " ['2012030221',\n",
       "  '20122013',\n",
       "  'P',\n",
       "  '5/16/2013',\n",
       "  '3',\n",
       "  '6',\n",
       "  '2',\n",
       "  '3',\n",
       "  'home win OT',\n",
       "  'left',\n",
       "  'TD Garden',\n",
       "  '/api/v1/venues/null',\n",
       "  'America/New_York',\n",
       "  '-4',\n",
       "  'EDT'],\n",
       " ['2012030222',\n",
       "  '20122013',\n",
       "  'P',\n",
       "  '5/19/2013',\n",
       "  '3',\n",
       "  '6',\n",
       "  '2',\n",
       "  '5',\n",
       "  'home win REG',\n",
       "  'left',\n",
       "  'TD Garden',\n",
       "  '/api/v1/venues/null',\n",
       "  'America/New_York',\n",
       "  '-4',\n",
       "  'EDT'],\n",
       " ['2012030223',\n",
       "  '20122013',\n",
       "  'P',\n",
       "  '5/21/2013',\n",
       "  '6',\n",
       "  '3',\n",
       "  '2',\n",
       "  '1',\n",
       "  'away win REG',\n",
       "  'right',\n",
       "  'Madison Square Garden',\n",
       "  '/api/v1/venues/null',\n",
       "  'America/New_York',\n",
       "  '-4',\n",
       "  'EDT'],\n",
       " ['2012030224',\n",
       "  '20122013',\n",
       "  'P',\n",
       "  '5/23/2013',\n",
       "  '6',\n",
       "  '3',\n",
       "  '3',\n",
       "  '4',\n",
       "  'home win OT',\n",
       "  'right',\n",
       "  'Madison Square Garden',\n",
       "  '/api/v1/venues/null',\n",
       "  'America/New_York',\n",
       "  '-4',\n",
       "  'EDT'],\n",
       " ['2012030225',\n",
       "  '20122013',\n",
       "  'P',\n",
       "  '5/25/2013',\n",
       "  '3',\n",
       "  '6',\n",
       "  '1',\n",
       "  '3',\n",
       "  'home win REG',\n",
       "  'left',\n",
       "  'TD Garden',\n",
       "  '/api/v1/venues/null',\n",
       "  'America/New_York',\n",
       "  '-4',\n",
       "  'EDT'],\n",
       " ['2012030311',\n",
       "  '20122013',\n",
       "  'P',\n",
       "  '6/2/2013',\n",
       "  '6',\n",
       "  '5',\n",
       "  '3',\n",
       "  '0',\n",
       "  'away win REG',\n",
       "  'left',\n",
       "  'CONSOL Energy Center',\n",
       "  '/api/v1/venues/null',\n",
       "  'America/New_York',\n",
       "  '-4',\n",
       "  'EDT'],\n",
       " ['2012030312',\n",
       "  '20122013',\n",
       "  'P',\n",
       "  '6/4/2013',\n",
       "  '6',\n",
       "  '5',\n",
       "  '6',\n",
       "  '1',\n",
       "  'away win REG',\n",
       "  'left',\n",
       "  'CONSOL Energy Center',\n",
       "  '/api/v1/venues/null',\n",
       "  'America/New_York',\n",
       "  '-4',\n",
       "  'EDT'],\n",
       " ['2012030313',\n",
       "  '20122013',\n",
       "  'P',\n",
       "  '6/6/2013',\n",
       "  '5',\n",
       "  '6',\n",
       "  '1',\n",
       "  '2',\n",
       "  'home win OT',\n",
       "  'left',\n",
       "  'TD Garden',\n",
       "  '/api/v1/venues/null',\n",
       "  'America/New_York',\n",
       "  '-4',\n",
       "  'EDT'],\n",
       " ['2012030314',\n",
       "  '20122013',\n",
       "  'P',\n",
       "  '6/8/2013',\n",
       "  '5',\n",
       "  '6',\n",
       "  '0',\n",
       "  '1',\n",
       "  'home win REG',\n",
       "  'left',\n",
       "  'TD Garden',\n",
       "  '/api/v1/venues/null',\n",
       "  'America/New_York',\n",
       "  '-4',\n",
       "  'EDT']]"
      ]
     },
     "execution_count": 38,
     "metadata": {},
     "output_type": "execute_result"
    }
   ],
   "source": [
    "inputFlapMapRDD.take(10)"
   ]
  },
  {
   "cell_type": "code",
   "execution_count": 52,
   "metadata": {},
   "outputs": [
    {
     "data": {
      "text/plain": [
       "['game_id,season,type,date_time,away_team_id,home_team_id,away_goals,home_goals,outcome,home_rink_side_start,venue,venue_link,venue_time_zone_id,venue_time_zone_offset,venue_time_zone_tz',\n",
       " '2012030221,20122013,P,5/16/2013,3,6,2,3,home win OT,left,TD Garden,/api/v1/venues/null,America/New_York,-4,EDT',\n",
       " '2012030222,20122013,P,5/19/2013,3,6,2,5,home win REG,left,TD Garden,/api/v1/venues/null,America/New_York,-4,EDT']"
      ]
     },
     "execution_count": 52,
     "metadata": {},
     "output_type": "execute_result"
    }
   ],
   "source": [
    "inputMapRDD.take(3)"
   ]
  },
  {
   "cell_type": "code",
   "execution_count": 8,
   "metadata": {},
   "outputs": [
    {
     "data": {
      "text/plain": [
       "[['game_id',\n",
       "  'season',\n",
       "  'type',\n",
       "  'date_time',\n",
       "  'away_team_id',\n",
       "  'home_team_id',\n",
       "  'away_goals',\n",
       "  'home_goals',\n",
       "  'outcome',\n",
       "  'home_rink_side_start',\n",
       "  'venue',\n",
       "  'venue_link',\n",
       "  'venue_time_zone_id',\n",
       "  'venue_time_zone_offset',\n",
       "  'venue_time_zone_tz'],\n",
       " ['2012030221',\n",
       "  '20122013',\n",
       "  'P',\n",
       "  '5/16/2013',\n",
       "  '3',\n",
       "  '6',\n",
       "  '2',\n",
       "  '3',\n",
       "  'home win OT',\n",
       "  'left',\n",
       "  'TD Garden',\n",
       "  '/api/v1/venues/null',\n",
       "  'America/New_York',\n",
       "  '-4',\n",
       "  'EDT']]"
      ]
     },
     "execution_count": 8,
     "metadata": {},
     "output_type": "execute_result"
    }
   ],
   "source": [
    "inputmapPartitionsRDD.take(2)"
   ]
  },
  {
   "cell_type": "code",
   "execution_count": 10,
   "metadata": {},
   "outputs": [],
   "source": [
    "inputmapPartitionsRDD.saveAsTextFile(\"E:/spark/project/output/demo_csv.csv\")\n",
    "# E:\\spark\\project"
   ]
  },
  {
   "cell_type": "code",
   "execution_count": 11,
   "metadata": {},
   "outputs": [
    {
     "data": {
      "text/plain": [
       "'E:\\\\spark\\\\project'"
      ]
     },
     "execution_count": 11,
     "metadata": {},
     "output_type": "execute_result"
    }
   ],
   "source": [
    "import os\n",
    "os.path.abspath(os.getcwd())"
   ]
  },
  {
   "cell_type": "code",
   "execution_count": 13,
   "metadata": {},
   "outputs": [],
   "source": [
    "inputMapRDD.saveAsTextFile(\"E:/spark/project/output/demo_csv_1.csv\")"
   ]
  },
  {
   "cell_type": "code",
   "execution_count": null,
   "metadata": {},
   "outputs": [],
   "source": [
    "# Load all data in one file"
   ]
  }
 ],
 "metadata": {
  "kernelspec": {
   "display_name": "Python 3",
   "language": "python",
   "name": "python3"
  },
  "language_info": {
   "codemirror_mode": {
    "name": "ipython",
    "version": 3
   },
   "file_extension": ".py",
   "mimetype": "text/x-python",
   "name": "python",
   "nbconvert_exporter": "python",
   "pygments_lexer": "ipython3",
   "version": "3.7.1"
  }
 },
 "nbformat": 4,
 "nbformat_minor": 2
}
