{
 "cells": [
  {
   "cell_type": "code",
   "execution_count": 24,
   "metadata": {},
   "outputs": [],
   "source": [
    "import pandas as pd"
   ]
  },
  {
   "cell_type": "code",
   "execution_count": 25,
   "metadata": {},
   "outputs": [],
   "source": [
    "df1 = pd.read_csv('game_1.csv')"
   ]
  },
  {
   "cell_type": "code",
   "execution_count": 36,
   "metadata": {},
   "outputs": [],
   "source": [
    "df2 = pd.read_csv('game_2.csv')"
   ]
  },
  {
   "cell_type": "code",
   "execution_count": 37,
   "metadata": {},
   "outputs": [],
   "source": [
    "comparison_df = df1.merge(df2,indicator=True, how='outer')"
   ]
  },
  {
   "cell_type": "code",
   "execution_count": 62,
   "metadata": {},
   "outputs": [],
   "source": [
    "#comparison_df"
   ]
  },
  {
   "cell_type": "code",
   "execution_count": 44,
   "metadata": {},
   "outputs": [],
   "source": [
    "df3 = pd.read_csv('game_3.txt',sep = '|')"
   ]
  },
  {
   "cell_type": "code",
   "execution_count": 61,
   "metadata": {},
   "outputs": [],
   "source": [
    "df4 = pd.read_csv('game_4.txt',sep = '|')"
   ]
  },
  {
   "cell_type": "code",
   "execution_count": 60,
   "metadata": {},
   "outputs": [],
   "source": [
    "comparison_df_txt = df3.merge(df4,indicator=True, how='outer')"
   ]
  },
  {
   "cell_type": "code",
   "execution_count": 59,
   "metadata": {},
   "outputs": [],
   "source": [
    "comparison_df_txt.to_csv('compare.csv')"
   ]
  },
  {
   "cell_type": "code",
   "execution_count": 63,
   "metadata": {},
   "outputs": [],
   "source": [
    "df5 = pd.read_csv('game_5.dat',sep = '|')"
   ]
  },
  {
   "cell_type": "code",
   "execution_count": 64,
   "metadata": {},
   "outputs": [],
   "source": [
    "df6 = pd.read_csv('game_6.dat',sep = '|')"
   ]
  },
  {
   "cell_type": "code",
   "execution_count": 65,
   "metadata": {},
   "outputs": [],
   "source": [
    "comparison_df_dat = df5.merge(df6,indicator=True, how='outer')"
   ]
  },
  {
   "cell_type": "code",
   "execution_count": 70,
   "metadata": {},
   "outputs": [],
   "source": [
    "comparison_df_dat.to_csv('compare_dat.csv')"
   ]
  },
  {
   "cell_type": "code",
   "execution_count": 126,
   "metadata": {},
   "outputs": [
    {
     "data": {
      "text/html": [
       "<div>\n",
       "<style scoped>\n",
       "    .dataframe tbody tr th:only-of-type {\n",
       "        vertical-align: middle;\n",
       "    }\n",
       "\n",
       "    .dataframe tbody tr th {\n",
       "        vertical-align: top;\n",
       "    }\n",
       "\n",
       "    .dataframe thead th {\n",
       "        text-align: right;\n",
       "    }\n",
       "</style>\n",
       "<table border=\"1\" class=\"dataframe\">\n",
       "  <thead>\n",
       "    <tr style=\"text-align: right;\">\n",
       "      <th></th>\n",
       "      <th>game_id</th>\n",
       "      <th>season</th>\n",
       "      <th>type</th>\n",
       "      <th>date_time</th>\n",
       "      <th>away_team_id</th>\n",
       "      <th>home_team_id</th>\n",
       "      <th>away_goals</th>\n",
       "      <th>home_goals</th>\n",
       "      <th>outcome</th>\n",
       "      <th>home_rink_side_start</th>\n",
       "      <th>venue</th>\n",
       "      <th>venue_link</th>\n",
       "      <th>venue_time_zone_id</th>\n",
       "      <th>venue_time_zone_offset</th>\n",
       "      <th>venue_time_zone_tz</th>\n",
       "    </tr>\n",
       "  </thead>\n",
       "  <tbody>\n",
       "    <tr>\n",
       "      <th>0</th>\n",
       "      <td>2012030221</td>\n",
       "      <td>20122013</td>\n",
       "      <td>P</td>\n",
       "      <td>5/16/2013</td>\n",
       "      <td>3</td>\n",
       "      <td>6</td>\n",
       "      <td>2</td>\n",
       "      <td>3</td>\n",
       "      <td>home win OT</td>\n",
       "      <td>left</td>\n",
       "      <td>TD Garden</td>\n",
       "      <td>/api/v1/venues/null</td>\n",
       "      <td>America/New_York</td>\n",
       "      <td>-4</td>\n",
       "      <td>EDT</td>\n",
       "    </tr>\n",
       "    <tr>\n",
       "      <th>1</th>\n",
       "      <td>2012030222</td>\n",
       "      <td>20122013</td>\n",
       "      <td>P</td>\n",
       "      <td>5/19/2013</td>\n",
       "      <td>3</td>\n",
       "      <td>6</td>\n",
       "      <td>2</td>\n",
       "      <td>5</td>\n",
       "      <td>home win REG</td>\n",
       "      <td>left</td>\n",
       "      <td>TD Garden</td>\n",
       "      <td>/api/v1/venues/null</td>\n",
       "      <td>America/New_York</td>\n",
       "      <td>-4</td>\n",
       "      <td>EDT</td>\n",
       "    </tr>\n",
       "    <tr>\n",
       "      <th>2</th>\n",
       "      <td>2012030223</td>\n",
       "      <td>20122013</td>\n",
       "      <td>P</td>\n",
       "      <td>5/21/2013</td>\n",
       "      <td>6</td>\n",
       "      <td>3</td>\n",
       "      <td>2</td>\n",
       "      <td>1</td>\n",
       "      <td>away win REG</td>\n",
       "      <td>right</td>\n",
       "      <td>Madison Square Garden</td>\n",
       "      <td>/api/v1/venues/null</td>\n",
       "      <td>America/New_York</td>\n",
       "      <td>-4</td>\n",
       "      <td>EDT</td>\n",
       "    </tr>\n",
       "    <tr>\n",
       "      <th>3</th>\n",
       "      <td>2012030224</td>\n",
       "      <td>20122013</td>\n",
       "      <td>P</td>\n",
       "      <td>5/23/2013</td>\n",
       "      <td>6</td>\n",
       "      <td>3</td>\n",
       "      <td>3</td>\n",
       "      <td>4</td>\n",
       "      <td>home win OT</td>\n",
       "      <td>right</td>\n",
       "      <td>Madison Square Garden</td>\n",
       "      <td>/api/v1/venues/null</td>\n",
       "      <td>America/New_York</td>\n",
       "      <td>-4</td>\n",
       "      <td>EDT</td>\n",
       "    </tr>\n",
       "    <tr>\n",
       "      <th>4</th>\n",
       "      <td>2012030225</td>\n",
       "      <td>20122013</td>\n",
       "      <td>P</td>\n",
       "      <td>5/25/2013</td>\n",
       "      <td>3</td>\n",
       "      <td>6</td>\n",
       "      <td>1</td>\n",
       "      <td>3</td>\n",
       "      <td>home win REG</td>\n",
       "      <td>left</td>\n",
       "      <td>TD Garden</td>\n",
       "      <td>/api/v1/venues/null</td>\n",
       "      <td>America/New_York</td>\n",
       "      <td>-4</td>\n",
       "      <td>EDT</td>\n",
       "    </tr>\n",
       "    <tr>\n",
       "      <th>5</th>\n",
       "      <td>2012030311</td>\n",
       "      <td>20122013</td>\n",
       "      <td>P</td>\n",
       "      <td>6/2/2013</td>\n",
       "      <td>6</td>\n",
       "      <td>5</td>\n",
       "      <td>3</td>\n",
       "      <td>0</td>\n",
       "      <td>away win REG</td>\n",
       "      <td>left</td>\n",
       "      <td>CONSOL Energy Center</td>\n",
       "      <td>/api/v1/venues/null</td>\n",
       "      <td>America/New_York</td>\n",
       "      <td>-4</td>\n",
       "      <td>EDT</td>\n",
       "    </tr>\n",
       "    <tr>\n",
       "      <th>6</th>\n",
       "      <td>2012030312</td>\n",
       "      <td>20122013</td>\n",
       "      <td>P</td>\n",
       "      <td>6/4/2013</td>\n",
       "      <td>6</td>\n",
       "      <td>5</td>\n",
       "      <td>6</td>\n",
       "      <td>1</td>\n",
       "      <td>away win REG</td>\n",
       "      <td>left</td>\n",
       "      <td>CONSOL Energy Center</td>\n",
       "      <td>/api/v1/venues/null</td>\n",
       "      <td>America/New_York</td>\n",
       "      <td>-4</td>\n",
       "      <td>EDT</td>\n",
       "    </tr>\n",
       "    <tr>\n",
       "      <th>7</th>\n",
       "      <td>2012030313</td>\n",
       "      <td>20122013</td>\n",
       "      <td>P</td>\n",
       "      <td>6/6/2013</td>\n",
       "      <td>5</td>\n",
       "      <td>6</td>\n",
       "      <td>1</td>\n",
       "      <td>2</td>\n",
       "      <td>home win OT</td>\n",
       "      <td>left</td>\n",
       "      <td>TD Garden</td>\n",
       "      <td>/api/v1/venues/null</td>\n",
       "      <td>America/New_York</td>\n",
       "      <td>-4</td>\n",
       "      <td>EDT</td>\n",
       "    </tr>\n",
       "    <tr>\n",
       "      <th>8</th>\n",
       "      <td>2012030314</td>\n",
       "      <td>20122013</td>\n",
       "      <td>P</td>\n",
       "      <td>6/8/2013</td>\n",
       "      <td>5</td>\n",
       "      <td>6</td>\n",
       "      <td>0</td>\n",
       "      <td>1</td>\n",
       "      <td>home win REG</td>\n",
       "      <td>left</td>\n",
       "      <td>TD Garden</td>\n",
       "      <td>/api/v1/venues/null</td>\n",
       "      <td>America/New_York</td>\n",
       "      <td>-4</td>\n",
       "      <td>EDT</td>\n",
       "    </tr>\n",
       "  </tbody>\n",
       "</table>\n",
       "</div>"
      ],
      "text/plain": [
       "      game_id    season type  date_time  away_team_id  home_team_id  \\\n",
       "0  2012030221  20122013    P  5/16/2013             3             6   \n",
       "1  2012030222  20122013    P  5/19/2013             3             6   \n",
       "2  2012030223  20122013    P  5/21/2013             6             3   \n",
       "3  2012030224  20122013    P  5/23/2013             6             3   \n",
       "4  2012030225  20122013    P  5/25/2013             3             6   \n",
       "5  2012030311  20122013    P   6/2/2013             6             5   \n",
       "6  2012030312  20122013    P   6/4/2013             6             5   \n",
       "7  2012030313  20122013    P   6/6/2013             5             6   \n",
       "8  2012030314  20122013    P   6/8/2013             5             6   \n",
       "\n",
       "   away_goals  home_goals       outcome home_rink_side_start  \\\n",
       "0           2           3   home win OT                 left   \n",
       "1           2           5  home win REG                 left   \n",
       "2           2           1  away win REG                right   \n",
       "3           3           4   home win OT                right   \n",
       "4           1           3  home win REG                 left   \n",
       "5           3           0  away win REG                 left   \n",
       "6           6           1  away win REG                 left   \n",
       "7           1           2   home win OT                 left   \n",
       "8           0           1  home win REG                 left   \n",
       "\n",
       "                   venue           venue_link venue_time_zone_id  \\\n",
       "0              TD Garden  /api/v1/venues/null   America/New_York   \n",
       "1              TD Garden  /api/v1/venues/null   America/New_York   \n",
       "2  Madison Square Garden  /api/v1/venues/null   America/New_York   \n",
       "3  Madison Square Garden  /api/v1/venues/null   America/New_York   \n",
       "4              TD Garden  /api/v1/venues/null   America/New_York   \n",
       "5   CONSOL Energy Center  /api/v1/venues/null   America/New_York   \n",
       "6   CONSOL Energy Center  /api/v1/venues/null   America/New_York   \n",
       "7              TD Garden  /api/v1/venues/null   America/New_York   \n",
       "8              TD Garden  /api/v1/venues/null   America/New_York   \n",
       "\n",
       "   venue_time_zone_offset venue_time_zone_tz  \n",
       "0                      -4                EDT  \n",
       "1                      -4                EDT  \n",
       "2                      -4                EDT  \n",
       "3                      -4                EDT  \n",
       "4                      -4                EDT  \n",
       "5                      -4                EDT  \n",
       "6                      -4                EDT  \n",
       "7                      -4                EDT  \n",
       "8                      -4                EDT  "
      ]
     },
     "execution_count": 126,
     "metadata": {},
     "output_type": "execute_result"
    }
   ],
   "source": [
    "df7 = pd.read_csv('game_1.csv')\n",
    "df7"
   ]
  },
  {
   "cell_type": "code",
   "execution_count": 138,
   "metadata": {},
   "outputs": [],
   "source": [
    "df8 = pd.read_csv('game_5.dat',sep = '|')\n",
    "#df8"
   ]
  },
  {
   "cell_type": "code",
   "execution_count": 139,
   "metadata": {},
   "outputs": [],
   "source": [
    "#df8.astype(str)\n",
    "#df8.dtypes"
   ]
  },
  {
   "cell_type": "code",
   "execution_count": 140,
   "metadata": {},
   "outputs": [],
   "source": [
    "comparison_df_mix = df7.merge(df8,indicator=True, how='outer')"
   ]
  },
  {
   "cell_type": "code",
   "execution_count": 141,
   "metadata": {},
   "outputs": [],
   "source": [
    "#comparison_df_mix"
   ]
  },
  {
   "cell_type": "code",
   "execution_count": 142,
   "metadata": {},
   "outputs": [
    {
     "data": {
      "text/html": [
       "<div>\n",
       "<style scoped>\n",
       "    .dataframe tbody tr th:only-of-type {\n",
       "        vertical-align: middle;\n",
       "    }\n",
       "\n",
       "    .dataframe tbody tr th {\n",
       "        vertical-align: top;\n",
       "    }\n",
       "\n",
       "    .dataframe thead th {\n",
       "        text-align: right;\n",
       "    }\n",
       "</style>\n",
       "<table border=\"1\" class=\"dataframe\">\n",
       "  <thead>\n",
       "    <tr style=\"text-align: right;\">\n",
       "      <th></th>\n",
       "      <th>game_id</th>\n",
       "      <th>season</th>\n",
       "      <th>type</th>\n",
       "      <th>date_time</th>\n",
       "      <th>away_team_id</th>\n",
       "      <th>home_team_id</th>\n",
       "      <th>away_goals</th>\n",
       "      <th>home_goals</th>\n",
       "      <th>outcome</th>\n",
       "      <th>home_rink_side_start</th>\n",
       "      <th>venue</th>\n",
       "      <th>venue_link</th>\n",
       "      <th>venue_time_zone_id</th>\n",
       "      <th>venue_time_zone_offset</th>\n",
       "      <th>venue_time_zone_tz</th>\n",
       "      <th>_merge</th>\n",
       "    </tr>\n",
       "  </thead>\n",
       "  <tbody>\n",
       "    <tr>\n",
       "      <th>8</th>\n",
       "      <td>2012030314</td>\n",
       "      <td>20122013</td>\n",
       "      <td>P</td>\n",
       "      <td>6/8/2013</td>\n",
       "      <td>5</td>\n",
       "      <td>6</td>\n",
       "      <td>0</td>\n",
       "      <td>1</td>\n",
       "      <td>home win REG</td>\n",
       "      <td>left</td>\n",
       "      <td>TD Garden</td>\n",
       "      <td>/api/v1/venues/null</td>\n",
       "      <td>America/New_York</td>\n",
       "      <td>-4</td>\n",
       "      <td>EDT</td>\n",
       "      <td>left_only</td>\n",
       "    </tr>\n",
       "    <tr>\n",
       "      <th>9</th>\n",
       "      <td>2012030314</td>\n",
       "      <td>20122013</td>\n",
       "      <td>P</td>\n",
       "      <td>6/8/2013</td>\n",
       "      <td>5</td>\n",
       "      <td>6</td>\n",
       "      <td>0</td>\n",
       "      <td>1</td>\n",
       "      <td>home win REG</td>\n",
       "      <td>left</td>\n",
       "      <td>TD Garden</td>\n",
       "      <td>/api/v1/venuesQQ/null</td>\n",
       "      <td>America/New_York</td>\n",
       "      <td>-4</td>\n",
       "      <td>EDT</td>\n",
       "      <td>right_only</td>\n",
       "    </tr>\n",
       "  </tbody>\n",
       "</table>\n",
       "</div>"
      ],
      "text/plain": [
       "      game_id    season type date_time  away_team_id  home_team_id  \\\n",
       "8  2012030314  20122013    P  6/8/2013             5             6   \n",
       "9  2012030314  20122013    P  6/8/2013             5             6   \n",
       "\n",
       "   away_goals  home_goals       outcome home_rink_side_start      venue  \\\n",
       "8           0           1  home win REG                 left  TD Garden   \n",
       "9           0           1  home win REG                 left  TD Garden   \n",
       "\n",
       "              venue_link venue_time_zone_id  venue_time_zone_offset  \\\n",
       "8    /api/v1/venues/null   America/New_York                      -4   \n",
       "9  /api/v1/venuesQQ/null   America/New_York                      -4   \n",
       "\n",
       "  venue_time_zone_tz      _merge  \n",
       "8                EDT   left_only  \n",
       "9                EDT  right_only  "
      ]
     },
     "execution_count": 142,
     "metadata": {},
     "output_type": "execute_result"
    }
   ],
   "source": [
    "comparison_df_mix.loc[lambda x : x['_merge']!='both']"
   ]
  },
  {
   "cell_type": "code",
   "execution_count": 131,
   "metadata": {},
   "outputs": [],
   "source": [
    "comparison_df_mix.to_csv('compare_mix.csv')"
   ]
  },
  {
   "cell_type": "code",
   "execution_count": null,
   "metadata": {},
   "outputs": [],
   "source": []
  }
 ],
 "metadata": {
  "kernelspec": {
   "display_name": "Python 3",
   "language": "python",
   "name": "python3"
  },
  "language_info": {
   "codemirror_mode": {
    "name": "ipython",
    "version": 3
   },
   "file_extension": ".py",
   "mimetype": "text/x-python",
   "name": "python",
   "nbconvert_exporter": "python",
   "pygments_lexer": "ipython3",
   "version": "3.7.1"
  }
 },
 "nbformat": 4,
 "nbformat_minor": 2
}
