{
 "cells": [
  {
   "cell_type": "code",
   "execution_count": 108,
   "metadata": {},
   "outputs": [],
   "source": [
    "import pandas as pd\n",
    "import csv"
   ]
  },
  {
   "cell_type": "code",
   "execution_count": 2,
   "metadata": {},
   "outputs": [],
   "source": [
    "df1 = pd.read_csv('game_1.csv')\n",
    "df1.columns = df1.columns.str.lower()"
   ]
  },
  {
   "cell_type": "code",
   "execution_count": 3,
   "metadata": {},
   "outputs": [],
   "source": [
    "df2 = pd.read_csv('game_2.csv')"
   ]
  },
  {
   "cell_type": "code",
   "execution_count": 4,
   "metadata": {},
   "outputs": [],
   "source": [
    "comparison_df = df1.merge(df2,indicator=True, how='outer')"
   ]
  },
  {
   "cell_type": "code",
   "execution_count": 5,
   "metadata": {},
   "outputs": [],
   "source": [
    "#comparison_df"
   ]
  },
  {
   "cell_type": "code",
   "execution_count": 6,
   "metadata": {},
   "outputs": [],
   "source": [
    "df3 = pd.read_csv('game_3.txt',sep = '|')"
   ]
  },
  {
   "cell_type": "code",
   "execution_count": 7,
   "metadata": {},
   "outputs": [],
   "source": [
    "df4 = pd.read_csv('game_4.txt',sep = '|')"
   ]
  },
  {
   "cell_type": "code",
   "execution_count": 8,
   "metadata": {},
   "outputs": [],
   "source": [
    "comparison_df_txt = df3.merge(df4,indicator=True, how='outer')"
   ]
  },
  {
   "cell_type": "code",
   "execution_count": 9,
   "metadata": {},
   "outputs": [],
   "source": [
    "comparison_df_txt.to_csv('compare.csv')"
   ]
  },
  {
   "cell_type": "code",
   "execution_count": 10,
   "metadata": {},
   "outputs": [],
   "source": [
    "df5 = pd.read_csv('game_5.dat',sep = '|')\n",
    "#df5.dtypes"
   ]
  },
  {
   "cell_type": "code",
   "execution_count": 11,
   "metadata": {},
   "outputs": [],
   "source": [
    "df6 = pd.read_csv('game_6.dat',sep = '|')\n",
    "#df6.dtypes"
   ]
  },
  {
   "cell_type": "code",
   "execution_count": 12,
   "metadata": {},
   "outputs": [],
   "source": [
    "comparison_df_dat = df5.merge(df6,indicator=True, how='outer')"
   ]
  },
  {
   "cell_type": "code",
   "execution_count": 13,
   "metadata": {},
   "outputs": [],
   "source": [
    "comparison_df_dat.to_csv('compare_dat.csv')"
   ]
  },
  {
   "cell_type": "code",
   "execution_count": 77,
   "metadata": {},
   "outputs": [],
   "source": [
    "df7 = pd.read_csv('game_1.csv')\n",
    "df7.columns = df7.columns.str.lower()\n",
    "#df7"
   ]
  },
  {
   "cell_type": "code",
   "execution_count": 78,
   "metadata": {},
   "outputs": [],
   "source": [
    "df8 = pd.read_csv('game_5.dat',sep = '|')\n",
    "#df8"
   ]
  },
  {
   "cell_type": "code",
   "execution_count": 79,
   "metadata": {},
   "outputs": [],
   "source": [
    "#df8.astype(str)\n",
    "#df8.dtypes"
   ]
  },
  {
   "cell_type": "code",
   "execution_count": 80,
   "metadata": {},
   "outputs": [],
   "source": [
    "comparison_df_mix = df7.merge(df8,indicator=True, how='outer')"
   ]
  },
  {
   "cell_type": "code",
   "execution_count": 81,
   "metadata": {},
   "outputs": [],
   "source": [
    "#comparison_df_mix"
   ]
  },
  {
   "cell_type": "code",
   "execution_count": 82,
   "metadata": {},
   "outputs": [],
   "source": [
    "comparison_df_filter = comparison_df_mix.loc[lambda x : x['_merge']!='both']"
   ]
  },
  {
   "cell_type": "code",
   "execution_count": 83,
   "metadata": {},
   "outputs": [
    {
     "data": {
      "text/html": [
       "<div>\n",
       "<style scoped>\n",
       "    .dataframe tbody tr th:only-of-type {\n",
       "        vertical-align: middle;\n",
       "    }\n",
       "\n",
       "    .dataframe tbody tr th {\n",
       "        vertical-align: top;\n",
       "    }\n",
       "\n",
       "    .dataframe thead th {\n",
       "        text-align: right;\n",
       "    }\n",
       "</style>\n",
       "<table border=\"1\" class=\"dataframe\">\n",
       "  <thead>\n",
       "    <tr style=\"text-align: right;\">\n",
       "      <th></th>\n",
       "      <th>game_id</th>\n",
       "      <th>type</th>\n",
       "      <th>date_time</th>\n",
       "      <th>away_team_id</th>\n",
       "      <th>home_team_id</th>\n",
       "      <th>away_goals</th>\n",
       "      <th>home_goals</th>\n",
       "      <th>outcome</th>\n",
       "      <th>home_rink_side_start</th>\n",
       "      <th>venue</th>\n",
       "      <th>venue_link</th>\n",
       "      <th>venue_time_zone_id</th>\n",
       "      <th>venue_time_zone_offset</th>\n",
       "      <th>venue_time_zone_tz</th>\n",
       "      <th>season</th>\n",
       "      <th>_merge</th>\n",
       "    </tr>\n",
       "  </thead>\n",
       "  <tbody>\n",
       "    <tr>\n",
       "      <th>0</th>\n",
       "      <td>2012030221</td>\n",
       "      <td>P</td>\n",
       "      <td>5/16/2013</td>\n",
       "      <td>3</td>\n",
       "      <td>6</td>\n",
       "      <td>2</td>\n",
       "      <td>3</td>\n",
       "      <td>home win OT</td>\n",
       "      <td>left</td>\n",
       "      <td>TD Garden</td>\n",
       "      <td>/api/v1/venues/null</td>\n",
       "      <td>America/New_York</td>\n",
       "      <td>-4</td>\n",
       "      <td>EDT</td>\n",
       "      <td>20122013</td>\n",
       "      <td>left_only</td>\n",
       "    </tr>\n",
       "    <tr>\n",
       "      <th>2</th>\n",
       "      <td>2012030223</td>\n",
       "      <td>P</td>\n",
       "      <td>5/21/2013</td>\n",
       "      <td>6</td>\n",
       "      <td>3</td>\n",
       "      <td>2</td>\n",
       "      <td>1</td>\n",
       "      <td>away win REG</td>\n",
       "      <td>right</td>\n",
       "      <td>Madison Square Garden</td>\n",
       "      <td>/api/v1/venues/null</td>\n",
       "      <td>America/New_York</td>\n",
       "      <td>-4</td>\n",
       "      <td>EDT</td>\n",
       "      <td>20122013</td>\n",
       "      <td>left_only</td>\n",
       "    </tr>\n",
       "    <tr>\n",
       "      <th>8</th>\n",
       "      <td>2012030314</td>\n",
       "      <td>P</td>\n",
       "      <td>6/8/2013</td>\n",
       "      <td>5</td>\n",
       "      <td>6</td>\n",
       "      <td>0</td>\n",
       "      <td>1</td>\n",
       "      <td>home win REG</td>\n",
       "      <td>left</td>\n",
       "      <td>TD Garden</td>\n",
       "      <td>/api/v1/venues/null</td>\n",
       "      <td>America/New_York</td>\n",
       "      <td>-4</td>\n",
       "      <td>EDT</td>\n",
       "      <td>20122013</td>\n",
       "      <td>left_only</td>\n",
       "    </tr>\n",
       "    <tr>\n",
       "      <th>9</th>\n",
       "      <td>2012030221</td>\n",
       "      <td>P</td>\n",
       "      <td>5/16/2013</td>\n",
       "      <td>3</td>\n",
       "      <td>6</td>\n",
       "      <td>2</td>\n",
       "      <td>3</td>\n",
       "      <td>home win OTTT</td>\n",
       "      <td>left</td>\n",
       "      <td>TD Garden</td>\n",
       "      <td>/api/v1/venues/null</td>\n",
       "      <td>America/New_York</td>\n",
       "      <td>-4</td>\n",
       "      <td>EDT</td>\n",
       "      <td>20122013</td>\n",
       "      <td>right_only</td>\n",
       "    </tr>\n",
       "    <tr>\n",
       "      <th>10</th>\n",
       "      <td>2012030223</td>\n",
       "      <td>P</td>\n",
       "      <td>5/21/2013</td>\n",
       "      <td>6</td>\n",
       "      <td>3</td>\n",
       "      <td>2</td>\n",
       "      <td>1</td>\n",
       "      <td>away win REGGGG</td>\n",
       "      <td>right</td>\n",
       "      <td>Madison Square GardenNN</td>\n",
       "      <td>/api/v1/venues/null</td>\n",
       "      <td>America/New_York</td>\n",
       "      <td>-4</td>\n",
       "      <td>EDT</td>\n",
       "      <td>20122013</td>\n",
       "      <td>right_only</td>\n",
       "    </tr>\n",
       "    <tr>\n",
       "      <th>11</th>\n",
       "      <td>2012030314</td>\n",
       "      <td>P</td>\n",
       "      <td>6/8/2013</td>\n",
       "      <td>5</td>\n",
       "      <td>6</td>\n",
       "      <td>0</td>\n",
       "      <td>1</td>\n",
       "      <td>home win REG</td>\n",
       "      <td>left</td>\n",
       "      <td>TD Garden</td>\n",
       "      <td>/api/v1/venues/nullQQQQ</td>\n",
       "      <td>AmericaNN/New_York</td>\n",
       "      <td>-4</td>\n",
       "      <td>EDT</td>\n",
       "      <td>20122013</td>\n",
       "      <td>right_only</td>\n",
       "    </tr>\n",
       "  </tbody>\n",
       "</table>\n",
       "</div>"
      ],
      "text/plain": [
       "       game_id type  date_time  away_team_id  home_team_id  away_goals  \\\n",
       "0   2012030221    P  5/16/2013             3             6           2   \n",
       "2   2012030223    P  5/21/2013             6             3           2   \n",
       "8   2012030314    P   6/8/2013             5             6           0   \n",
       "9   2012030221    P  5/16/2013             3             6           2   \n",
       "10  2012030223    P  5/21/2013             6             3           2   \n",
       "11  2012030314    P   6/8/2013             5             6           0   \n",
       "\n",
       "    home_goals          outcome home_rink_side_start                    venue  \\\n",
       "0            3      home win OT                 left                TD Garden   \n",
       "2            1     away win REG                right    Madison Square Garden   \n",
       "8            1     home win REG                 left                TD Garden   \n",
       "9            3    home win OTTT                 left                TD Garden   \n",
       "10           1  away win REGGGG                right  Madison Square GardenNN   \n",
       "11           1     home win REG                 left                TD Garden   \n",
       "\n",
       "                 venue_link  venue_time_zone_id  venue_time_zone_offset  \\\n",
       "0       /api/v1/venues/null    America/New_York                      -4   \n",
       "2       /api/v1/venues/null    America/New_York                      -4   \n",
       "8       /api/v1/venues/null    America/New_York                      -4   \n",
       "9       /api/v1/venues/null    America/New_York                      -4   \n",
       "10      /api/v1/venues/null    America/New_York                      -4   \n",
       "11  /api/v1/venues/nullQQQQ  AmericaNN/New_York                      -4   \n",
       "\n",
       "   venue_time_zone_tz    season      _merge  \n",
       "0                 EDT  20122013   left_only  \n",
       "2                 EDT  20122013   left_only  \n",
       "8                 EDT  20122013   left_only  \n",
       "9                 EDT  20122013  right_only  \n",
       "10                EDT  20122013  right_only  \n",
       "11                EDT  20122013  right_only  "
      ]
     },
     "execution_count": 83,
     "metadata": {},
     "output_type": "execute_result"
    }
   ],
   "source": [
    "comparison_df_filter"
   ]
  },
  {
   "cell_type": "code",
   "execution_count": 84,
   "metadata": {},
   "outputs": [],
   "source": [
    "#comparison_df_filter = comparison_df_filter.loc[:,~comparison_df_filter.T.duplicated(keep='first')]"
   ]
  },
  {
   "cell_type": "code",
   "execution_count": 85,
   "metadata": {},
   "outputs": [],
   "source": [
    "#comparison_df_filter_1 = \n",
    "#comparison_df_filter.T\n",
    "#.drop_duplicates(keep = False, inplace = True)"
   ]
  },
  {
   "cell_type": "code",
   "execution_count": 86,
   "metadata": {},
   "outputs": [],
   "source": [
    "#comparison_df_filter"
   ]
  },
  {
   "cell_type": "code",
   "execution_count": 87,
   "metadata": {},
   "outputs": [
    {
     "data": {
      "text/plain": [
       "'nunique = comparison_df_filter.apply(pd.Series.nunique)\\ncols_to_drop = nunique[nunique == 1].index\\ncomparison_df_filter.drop(cols_to_drop, axis=1)'"
      ]
     },
     "execution_count": 87,
     "metadata": {},
     "output_type": "execute_result"
    }
   ],
   "source": [
    "'''nunique = comparison_df_filter.apply(pd.Series.nunique)\n",
    "cols_to_drop = nunique[nunique == 1].index\n",
    "comparison_df_filter.drop(cols_to_drop, axis=1)'''"
   ]
  },
  {
   "cell_type": "code",
   "execution_count": 88,
   "metadata": {},
   "outputs": [],
   "source": [
    "#comparison_df_mix.to_csv('compare_mix.csv')"
   ]
  },
  {
   "cell_type": "code",
   "execution_count": 89,
   "metadata": {},
   "outputs": [],
   "source": [
    "#nunique = comparison_df_filter.apply(pd.Series.nunique)\n",
    "#nunique"
   ]
  },
  {
   "cell_type": "code",
   "execution_count": 90,
   "metadata": {},
   "outputs": [],
   "source": [
    "#cols_to_drop = nunique[nunique == 2]\n",
    "#cols_to_drop = cols_to_drop.concat('game_id')\n",
    "#cols_to_drop"
   ]
  },
  {
   "cell_type": "code",
   "execution_count": 91,
   "metadata": {},
   "outputs": [],
   "source": [
    "#comparison_df_filter.drop(cols_to_drop, axis=1)"
   ]
  },
  {
   "cell_type": "code",
   "execution_count": 92,
   "metadata": {},
   "outputs": [
    {
     "data": {
      "text/plain": [
       "9"
      ]
     },
     "execution_count": 92,
     "metadata": {},
     "output_type": "execute_result"
    }
   ],
   "source": [
    "len(df7)"
   ]
  },
  {
   "cell_type": "code",
   "execution_count": 93,
   "metadata": {},
   "outputs": [],
   "source": [
    "#df7.iloc[0,1]\n",
    "#df7.columns[1]"
   ]
  },
  {
   "cell_type": "code",
   "execution_count": 94,
   "metadata": {},
   "outputs": [
    {
     "data": {
      "text/plain": [
       "' iterate over dataframe \\nfor i in range(len(df7)) :\\n    if(i < len(df7)-1):\\n        if(df7.iloc[i, i] = df7.iloc[i+1, i]):\\n            print(df7.iloc[i, 0], df7.iloc[i, 3]) '"
      ]
     },
     "execution_count": 94,
     "metadata": {},
     "output_type": "execute_result"
    }
   ],
   "source": [
    "''' iterate over dataframe \n",
    "for i in range(len(df7)) :\n",
    "    if(i < len(df7)-1):\n",
    "        if(df7.iloc[i, i] = df7.iloc[i+1, i]):\n",
    "            print(df7.iloc[i, 0], df7.iloc[i, 3]) '''"
   ]
  },
  {
   "cell_type": "code",
   "execution_count": 95,
   "metadata": {},
   "outputs": [],
   "source": [
    "#df7.groupby('outcome').groups"
   ]
  },
  {
   "cell_type": "code",
   "execution_count": 102,
   "metadata": {},
   "outputs": [],
   "source": [
    "matched_df = pd.DataFrame()\n",
    "not_matched_df = pd.DataFrame()"
   ]
  },
  {
   "cell_type": "code",
   "execution_count": null,
   "metadata": {},
   "outputs": [],
   "source": []
  },
  {
   "cell_type": "code",
   "execution_count": 116,
   "metadata": {},
   "outputs": [
    {
     "name": "stdout",
     "output_type": "stream",
     "text": [
      "2012030221\n",
      " *****length*****  2\n",
      "2012030223\n",
      " *****length*****  2\n",
      "2012030314\n",
      " *****length*****  2\n"
     ]
    }
   ],
   "source": [
    "with open('notMatched_final_1.csv', 'w', newline='') as file:\n",
    "    writer = csv.writer(file , delimiter=',')\n",
    "    for name, group in comparison_df_filter.groupby('game_id'):\n",
    "        print(name)\n",
    "        print( ' *****length***** ', len(group))\n",
    "        for i in range(len(group)) :\n",
    "            #print(' number of columns ' , len(group.columns ))\n",
    "            if(i < len(group)-1):\n",
    "                for j in range(len(group.columns)) :\n",
    "                    if(j < len(group.columns) -1):\n",
    "                        if(group.iloc[i, j] != group.iloc[i+1, j]):\n",
    "                            #not_matched_df.insert(i, group.columns[j], (group.iloc[i, j],group.iloc[i+1, j]), True)\n",
    "                            #not_matched_df.append({name : group.iloc[i, j]})\n",
    "                            row = name , ' not matched ' , ' coulmn name ', group.columns[j], ' value ',(group.iloc[i, j],group.iloc[i+1, j])\n",
    "                            writer.writerow(row)\n",
    "                        '''else :\n",
    "                            #not_matched_df.insert(j, group.columns[j], (group.iloc[i, j],group.iloc[i+1, j]), True)\n",
    "                            print(name , '  matched ' ,group.iloc[i, j] , ' with ' , group.iloc[i+1, j] , ' for row ' , i,\n",
    "                                 ' and column' , j, ' coulmn ', group.columns[j], ' value ',(group.iloc[i, j],group.iloc[i+1, j]))'''"
   ]
  },
  {
   "cell_type": "code",
   "execution_count": 98,
   "metadata": {},
   "outputs": [],
   "source": [
    "#df7.sort_values(\"outcome\", inplace = True) \n",
    "#df7.where(df7['outcome'] == 'away win REG' , inplace = True)\n",
    "#df7[df7['outcome'] == 'away win REG']"
   ]
  },
  {
   "cell_type": "code",
   "execution_count": null,
   "metadata": {},
   "outputs": [],
   "source": [
    "#print(name , ' not matched ' ,group.iloc[i, j] , ' with ' , group.iloc[i+1, j], ' for row ' ,\n",
    "#      i , ' and column' , j,' coulmn ', group.columns[j], ' value ',(group.iloc[i, j],group.iloc[i+1, j]))"
   ]
  },
  {
   "cell_type": "code",
   "execution_count": 99,
   "metadata": {},
   "outputs": [
    {
     "data": {
      "text/html": [
       "<div>\n",
       "<style scoped>\n",
       "    .dataframe tbody tr th:only-of-type {\n",
       "        vertical-align: middle;\n",
       "    }\n",
       "\n",
       "    .dataframe tbody tr th {\n",
       "        vertical-align: top;\n",
       "    }\n",
       "\n",
       "    .dataframe thead th {\n",
       "        text-align: right;\n",
       "    }\n",
       "</style>\n",
       "<table border=\"1\" class=\"dataframe\">\n",
       "  <thead>\n",
       "    <tr style=\"text-align: right;\">\n",
       "      <th></th>\n",
       "      <th>venue_time_zone_id</th>\n",
       "      <th>venue_link</th>\n",
       "      <th>venue</th>\n",
       "      <th>outcome</th>\n",
       "      <th>outcome</th>\n",
       "    </tr>\n",
       "  </thead>\n",
       "  <tbody>\n",
       "    <tr>\n",
       "      <th>0</th>\n",
       "      <td>America/New_York</td>\n",
       "      <td>/api/v1/venues/null</td>\n",
       "      <td>Madison Square Garden</td>\n",
       "      <td>away win REG</td>\n",
       "      <td>home win OT</td>\n",
       "    </tr>\n",
       "    <tr>\n",
       "      <th>1</th>\n",
       "      <td>AmericaNN/New_York</td>\n",
       "      <td>/api/v1/venues/nullQQQQ</td>\n",
       "      <td>Madison Square GardenNN</td>\n",
       "      <td>away win REGGGG</td>\n",
       "      <td>home win OTTT</td>\n",
       "    </tr>\n",
       "  </tbody>\n",
       "</table>\n",
       "</div>"
      ],
      "text/plain": [
       "   venue_time_zone_id               venue_link                    venue  \\\n",
       "0    America/New_York      /api/v1/venues/null    Madison Square Garden   \n",
       "1  AmericaNN/New_York  /api/v1/venues/nullQQQQ  Madison Square GardenNN   \n",
       "\n",
       "           outcome        outcome  \n",
       "0     away win REG    home win OT  \n",
       "1  away win REGGGG  home win OTTT  "
      ]
     },
     "execution_count": 99,
     "metadata": {},
     "output_type": "execute_result"
    }
   ],
   "source": [
    "not_matched_df"
   ]
  },
  {
   "cell_type": "code",
   "execution_count": null,
   "metadata": {},
   "outputs": [],
   "source": []
  }
 ],
 "metadata": {
  "kernelspec": {
   "display_name": "Python 3",
   "language": "python",
   "name": "python3"
  },
  "language_info": {
   "codemirror_mode": {
    "name": "ipython",
    "version": 3
   },
   "file_extension": ".py",
   "mimetype": "text/x-python",
   "name": "python",
   "nbconvert_exporter": "python",
   "pygments_lexer": "ipython3",
   "version": "3.7.1"
  }
 },
 "nbformat": 4,
 "nbformat_minor": 2
}
