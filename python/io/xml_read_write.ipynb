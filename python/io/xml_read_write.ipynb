{
 "cells": [
  {
   "cell_type": "code",
   "execution_count": 1,
   "metadata": {},
   "outputs": [],
   "source": [
    "import csv \n",
    "import requests \n",
    "import xml.etree.ElementTree as ET "
   ]
  },
  {
   "cell_type": "code",
   "execution_count": 112,
   "metadata": {},
   "outputs": [],
   "source": [
    "# create element tree object \n",
    "xmlfile = 'E:/spark/project/data/xml/readfeed_1.xml'\n",
    "tree = ET.parse(xmlfile)"
   ]
  },
  {
   "cell_type": "code",
   "execution_count": 113,
   "metadata": {},
   "outputs": [
    {
     "data": {
      "text/plain": [
       "<Element 'breakfast_menu' at 0x0A6FA480>"
      ]
     },
     "execution_count": 113,
     "metadata": {},
     "output_type": "execute_result"
    }
   ],
   "source": [
    "# get root element \n",
    "root = tree.getroot()\n",
    "root"
   ]
  },
  {
   "cell_type": "code",
   "execution_count": 62,
   "metadata": {},
   "outputs": [
    {
     "name": "stdout",
     "output_type": "stream",
     "text": [
      "$5.95\n",
      "\n",
      "\n"
     ]
    }
   ],
   "source": [
    "root.tag\n",
    "print(root[0][1].text)\n",
    "print(root[0].text)"
   ]
  },
  {
   "cell_type": "code",
   "execution_count": 63,
   "metadata": {},
   "outputs": [
    {
     "name": "stdout",
     "output_type": "stream",
     "text": [
      "food \n",
      "\n",
      "food \n",
      "\n",
      "food \n",
      "\n",
      "food \n",
      "\n",
      "food \n",
      "\n"
     ]
    }
   ],
   "source": [
    "for child in root:\n",
    "    print(child.tag, child.text)"
   ]
  },
  {
   "cell_type": "code",
   "execution_count": 56,
   "metadata": {},
   "outputs": [
    {
     "data": {
      "text/plain": [
       "'$5.95'"
      ]
     },
     "execution_count": 56,
     "metadata": {},
     "output_type": "execute_result"
    }
   ],
   "source": [
    "root[0][1].text"
   ]
  },
  {
   "cell_type": "code",
   "execution_count": 64,
   "metadata": {},
   "outputs": [
    {
     "name": "stdout",
     "output_type": "stream",
     "text": [
      "Belgian Waffles\n",
      "Strawberry Belgian Waffles\n",
      "Berry-Berry Belgian Waffles\n",
      "French Toast\n",
      "Homestyle Breakfast\n"
     ]
    }
   ],
   "source": [
    "for neighbor in root.iter('name'):\n",
    "    print(neighbor.text)"
   ]
  },
  {
   "cell_type": "code",
   "execution_count": 65,
   "metadata": {},
   "outputs": [
    {
     "name": "stdout",
     "output_type": "stream",
     "text": [
      "Belgian Waffles $5.95\n",
      "Strawberry Belgian Waffles $7.95\n",
      "Berry-Berry Belgian Waffles $8.95\n",
      "French Toast $4.50\n",
      "Homestyle Breakfast $6.95\n"
     ]
    }
   ],
   "source": [
    "for country in root.findall('food'):\n",
    "    rank = country.find('price').text\n",
    "    name = country.find('name').text\n",
    "    print(name, rank)"
   ]
  },
  {
   "cell_type": "code",
   "execution_count": 114,
   "metadata": {},
   "outputs": [
    {
     "name": "stdout",
     "output_type": "stream",
     "text": [
      "$5.95\n",
      "$6.95\n",
      "$7.95\n",
      "$8.95\n",
      "$8.95\n",
      "$9.95\n",
      "$4.50\n",
      "$5.5\n",
      "$6.95\n",
      "$7.95\n"
     ]
    }
   ],
   "source": [
    "for item in root.findall('food'):\n",
    "     for child in item :\n",
    "            if(child.tag == 'price'):\n",
    "                print(child.text )\n",
    "                child.text = '$' + str(float(str(child.text).replace('$','')) + 1)\n",
    "                print(child.text)\n",
    "    "
   ]
  },
  {
   "cell_type": "code",
   "execution_count": 101,
   "metadata": {},
   "outputs": [
    {
     "name": "stdout",
     "output_type": "stream",
     "text": [
      "6.951\n",
      "7.951\n",
      "8.951\n",
      "9.951\n",
      "9.951\n",
      "10.951\n",
      "5.501\n",
      "6.501\n",
      "7.951\n",
      "8.951\n"
     ]
    }
   ],
   "source": [
    "for rank in root.iter('price'):\n",
    "    print(rank.text)\n",
    "    rank.text = float(str(rank.text).replace('$','')) + 1\n",
    "    print(rank.text)"
   ]
  },
  {
   "cell_type": "code",
   "execution_count": null,
   "metadata": {},
   "outputs": [],
   "source": [
    "for rank in root.iter('year'):\n",
    "    new_rank = int(rank.text) + 1\n",
    "    rank.text = str(new_rank)\n",
    "    rank.set('updated', 'yes')\n",
    "\n",
    "tree.write('E:/spark/project/data/xml/output.xml')"
   ]
  },
  {
   "cell_type": "code",
   "execution_count": 88,
   "metadata": {},
   "outputs": [
    {
     "name": "stdout",
     "output_type": "stream",
     "text": [
      "<class 'str'>  and  <class 'float'>\n"
     ]
    }
   ],
   "source": [
    "a = '$2.555'\n",
    "b = float(a)\n",
    "print(type(a) , ' and ',type(b))"
   ]
  },
  {
   "cell_type": "code",
   "execution_count": null,
   "metadata": {},
   "outputs": [],
   "source": [
    "for child in item :\n",
    "        name = child.find('name').text\n",
    "        calories = child.find('calories').text\n",
    "        print(name , calories)"
   ]
  },
  {
   "cell_type": "code",
   "execution_count": 7,
   "metadata": {},
   "outputs": [],
   "source": [
    "# create empty list for news items \n",
    "newsitems = [] \n",
    "  \n",
    "# iterate news items \n",
    "for item in root.findall('./channel/item'): \n",
    "\n",
    "    # empty news dictionary \n",
    "    news = {} \n",
    "\n",
    "    # iterate child elements of item \n",
    "    for child in item: \n",
    "\n",
    "        # special checking for namespace object content:media \n",
    "        if child.tag == '{http://search.yahoo.com/mrss/}content': \n",
    "            news['media'] = child.attrib['url'] \n",
    "        else: \n",
    "            news[child.tag] = child.text.encode('utf8') \n",
    "\n",
    "    # append news dictionary to news items list \n",
    "    newsitems.append(news) "
   ]
  },
  {
   "cell_type": "code",
   "execution_count": 8,
   "metadata": {},
   "outputs": [
    {
     "data": {
      "text/plain": [
       "[{'title': b\"\\n Unlike regional films, I couldn't make a mark in Hindi films. They need star power... \\n\",\n",
       "  'description': b'\\n Sachin Khedekar talks about why he hasn\\xe2\\x80\\x99t yet played a powerful role in Hindi films and why OTT are a good bet for actors like him \\n',\n",
       "  'link': b'\\n https://www.hindustantimes.com/bollywood/unlike-regional-films-i-couldn-t-make-a-mark-in-hindi-films-they-need-star-power-which-is-why-i-get-fringe-characters-sachin-khedekar/story-VUn6tRHLLkBFHkwBohUANK.html \\n',\n",
       "  'guid': b'\\n https://www.hindustantimes.com/bollywood/unlike-regional-films-i-couldn-t-make-a-mark-in-hindi-films-they-need-star-power-which-is-why-i-get-fringe-characters-sachin-khedekar/story-VUn6tRHLLkBFHkwBohUANK.html \\n',\n",
       "  'pubDate': b'\\n Sat, 19 Sep 2020 11:02:21 GMT \\n',\n",
       "  'media': 'https://www.hindustantimes.com/rf/image_size_630x354/HT/p2/2020/09/19/Pictures/ht-pune_fda137f0-fa65-11ea-b206-fe77f4f0660e.JPG'},\n",
       " {'title': b\"\\n Horoscope Today: Astrological prediction for September 19, what's in store for Aries,... \\n\",\n",
       "  'description': b'\\n Daily horoscope: Are the stars lined up in your favour? Find out the astrological prediction for Aries, Leo, Virgo, Libra and other zodiac signs for September 19. \\n',\n",
       "  'link': b'\\n https://www.hindustantimes.com/more-lifestyle/horoscope-today-astrological-prediction-for-september-19-what-s-in-store-for-aries-virgo-libra-scorpio-and-other-zodiac-signs/story-SCezSgYrWs6LfmMpcEzMCI.html \\n',\n",
       "  'guid': b'\\n https://www.hindustantimes.com/more-lifestyle/horoscope-today-astrological-prediction-for-september-19-what-s-in-store-for-aries-virgo-libra-scorpio-and-other-zodiac-signs/story-SCezSgYrWs6LfmMpcEzMCI.html \\n',\n",
       "  'pubDate': b'\\n Fri, 18 Sep 2020 06:41:32 GMT \\n',\n",
       "  'media': 'https://www.hindustantimes.com/rf/image_size_630x354/HT/p2/2020/07/03/Pictures/_4c6be882-bc98-11ea-8289-eb9e57c07d2f.png'},\n",
       " {'title': b'\\n Adult art classes are helping people look within, see themselves more clearly \\n',\n",
       "  'description': b'\\n As sessions go virtual in the pandemic, more are signing up for classes that range from semi-nudes to look-in-the-mirror self-reflection. \\n',\n",
       "  'link': b'\\n https://www.hindustantimes.com/art-and-culture/adult-art-classes-are-helping-people-look-within-see-themselves-more-clearly/story-KUZBLcUepk5Ag4qi3eLgnK.html \\n',\n",
       "  'guid': b'\\n https://www.hindustantimes.com/art-and-culture/adult-art-classes-are-helping-people-look-within-see-themselves-more-clearly/story-KUZBLcUepk5Ag4qi3eLgnK.html \\n',\n",
       "  'pubDate': b'\\n Fri, 18 Sep 2020 04:34:34 GMT \\n',\n",
       "  'media': 'https://www.hindustantimes.com/rf/image_size_630x354/HT/p2/2020/09/18/Pictures/_cd9a2a56-f9cc-11ea-b206-fe77f4f0660e.png'},\n",
       " {'title': b\"\\n It's okay to admit you have family fatigue \\n\",\n",
       "  'description': b'\\n Half a year in, with no end in sight, loved ones are getting less beloved as time drags on. One way out is to balance conversations with silences. \\n',\n",
       "  'link': b'\\n https://www.hindustantimes.com/wellness/it-s-okay-to-admit-you-have-family-fatigue/story-fG4YtEqQ3rND4aqhzgC6HP.html \\n',\n",
       "  'guid': b'\\n https://www.hindustantimes.com/wellness/it-s-okay-to-admit-you-have-family-fatigue/story-fG4YtEqQ3rND4aqhzgC6HP.html \\n',\n",
       "  'pubDate': b'\\n Fri, 18 Sep 2020 03:09:22 GMT \\n',\n",
       "  'media': 'https://www.hindustantimes.com/rf/image_size_630x354/HT/p2/2020/09/18/Pictures/print_1c16b2f6-f9c0-11ea-b206-fe77f4f0660e.jpg'},\n",
       " {'title': b'\\n Stuff piling up? You could have gear acquisition syndrome \\n',\n",
       "  'description': b'\\n Music and photography have a high incidences of GAS, but any hobby - done wrong - can see you substitute goods for effort and time. \\n',\n",
       "  'link': b'\\n https://www.hindustantimes.com/more-lifestyle/stuff-piling-up-you-could-have-gear-acquisition-syndrome/story-bg68E54vja66YBN2G6ZzGM.html \\n',\n",
       "  'guid': b'\\n https://www.hindustantimes.com/more-lifestyle/stuff-piling-up-you-could-have-gear-acquisition-syndrome/story-bg68E54vja66YBN2G6ZzGM.html \\n',\n",
       "  'pubDate': b'\\n Fri, 18 Sep 2020 02:50:09 GMT \\n',\n",
       "  'media': 'https://www.hindustantimes.com/rf/image_size_630x354/HT/p2/2020/09/18/Pictures/_a96e599e-f9b4-11ea-a79f-df66953e0d7c.jpg'},\n",
       " {'title': b'\\n This group of crochet queens is breaking world records one by one \\n',\n",
       "  'description': b'\\n With 6,000 members across the country and overseas, the highly organised group donates all they make, spreading some cheer too. \\n',\n",
       "  'link': b'\\n https://www.hindustantimes.com/art-and-culture/this-group-of-crochet-queens-is-breaking-world-records-one-by-one/story-ZNf9vuWcZEh5j0pQUXOjUN.html \\n',\n",
       "  'guid': b'\\n https://www.hindustantimes.com/art-and-culture/this-group-of-crochet-queens-is-breaking-world-records-one-by-one/story-ZNf9vuWcZEh5j0pQUXOjUN.html \\n',\n",
       "  'pubDate': b'\\n Fri, 18 Sep 2020 02:43:42 GMT \\n',\n",
       "  'media': 'https://www.hindustantimes.com/rf/image_size_630x354/HT/p2/2020/09/18/Pictures/_536e3304-f9a8-11ea-a79f-df66953e0d7c.jpg'},\n",
       " {'title': b\"\\n With tourists slow to return, Egypt's resorts and ancient sites face tough wint... \\n\",\n",
       "  'description': b'\\n Even as international flights and tourist spots open up and Egypt\\xe2\\x80\\x99s coronavirus cases remain in check, officials, hotel owners and tour guides concede that the key winter season starting in October is going to be tough. \\n',\n",
       "  'link': b'\\n https://www.hindustantimes.com/travel/with-tourists-slow-to-return-egypt-s-resorts-and-ancient-sites-face-tough-winter/story-a3cYKczZJLVQLD0OrWRttN.html \\n',\n",
       "  'guid': b'\\n https://www.hindustantimes.com/travel/with-tourists-slow-to-return-egypt-s-resorts-and-ancient-sites-face-tough-winter/story-a3cYKczZJLVQLD0OrWRttN.html \\n',\n",
       "  'pubDate': b'\\n Fri, 18 Sep 2020 02:16:31 GMT \\n',\n",
       "  'media': 'https://www.hindustantimes.com/rf/image_size_630x354/HT/p2/2020/09/18/Pictures/_9e90d688-f9b8-11ea-a79f-df66953e0d7c.jpg'},\n",
       " {'title': b'\\n HT Exclusive: Nudged by Ajit Doval, Myanmar army hands over 22 northeast insurg... \\n',\n",
       "  'description': b'\\n The handling over anti-India insurgents by Myanmar military is a culmination of months of work by NSA Ajit Doval and security agencies \\n',\n",
       "  'link': b'\\n https://www.hindustantimes.com/india-news/ht-exclusive-myanmar-flushes-out-northeast-insurgents-hands-over-22-to-india/story-x3CcZ88zxPj54l6XtqTj6L.html \\n',\n",
       "  'guid': b'\\n https://www.hindustantimes.com/india-news/ht-exclusive-myanmar-flushes-out-northeast-insurgents-hands-over-22-to-india/story-x3CcZ88zxPj54l6XtqTj6L.html \\n',\n",
       "  'pubDate': b'\\n Sat, 16 May 2020 08:16:36 GMT \\n',\n",
       "  'media': 'https://www.hindustantimes.com/rf/image_size_630x354/HT/p2/2020/05/15/Pictures/_b4487a46-96b0-11ea-b40c-d7c2b81d84c3.jpg'},\n",
       " {'title': b'\\n Govt to create Rs 1 lakh crore Agri-Infrastructure Fund for marginalised farmers:... \\n',\n",
       "  'description': b'\\n The lack of adequate cold chain and post-harvest management in the vicinity of farm-gate is causing gaps in value chains. The government\\xe2\\x80\\x99s focus has been on short-term crop loans while investment in long-term agriculture infrastructure has often not been enough, the minister indicated. \\n',\n",
       "  'link': b'\\n https://www.hindustantimes.com/india-news/govt-to-create-rs-1-lakh-crore-agri-infrastructure-fund-for-marginalized-farmers-fm/story-NHzXbkxLRQjFzmO1nl3vOI.html \\n',\n",
       "  'guid': b'\\n https://www.hindustantimes.com/india-news/govt-to-create-rs-1-lakh-crore-agri-infrastructure-fund-for-marginalized-farmers-fm/story-NHzXbkxLRQjFzmO1nl3vOI.html \\n',\n",
       "  'pubDate': b'\\n Fri, 15 May 2020 07:33:47 GMT \\n',\n",
       "  'media': 'https://www.hindustantimes.com/rf/image_size_630x354/HT/p2/2020/05/16/Pictures/_cdbbcb4a-96e2-11ea-b40c-d7c2b81d84c3.jpg'},\n",
       " {'title': b\"\\n Rahul Gandhi jabs NITI Aayog over Covid-19 'prediction'; gets a prompt rebuttal \\n\",\n",
       "  'description': b'\\n NITI Aayog chief executive officer Amitabh Kant later tweeted his rebuttal to Rahul Gandhi. \\n',\n",
       "  'link': b'\\n https://www.hindustantimes.com/india-news/rahul-gandhi-shreds-niti-aayog-over-no-covid-19-cases-after-may-16-prediction/story-nIznL58C2I4kaSoVqqIuYI.html \\n',\n",
       "  'guid': b'\\n https://www.hindustantimes.com/india-news/rahul-gandhi-shreds-niti-aayog-over-no-covid-19-cases-after-may-16-prediction/story-nIznL58C2I4kaSoVqqIuYI.html \\n',\n",
       "  'pubDate': b'\\n Fri, 15 May 2020 05:49:53 GMT \\n',\n",
       "  'media': 'https://www.hindustantimes.com/rf/image_size_630x354/HT/p2/2020/05/15/Pictures/_7274820e-96a6-11ea-a091-8eb61e4add3b.jpg'},\n",
       " {'title': b\"\\n Delhi's Covid-19 death toll rises to123, city reports 425 fresh cases taking tally... \\n\",\n",
       "  'description': b'\\n In a health bulletin issued on Friday, the Delhi health department said, the death toll from the coronavirus infection in the national capital has risen to 123. The national capital, however, did not report any deaths due to coronavirus in the last twenty-four hours, the data revealed. \\n',\n",
       "  'link': b'\\n https://www.hindustantimes.com/india-news/delhi-s-covid-19-death-toll-rises-to123-city-reports-425-fresh-cases-taking-tally-to-8-895/story-7KhV4ewplevU1Tp0n92ZaM.html \\n',\n",
       "  'guid': b'\\n https://www.hindustantimes.com/india-news/delhi-s-covid-19-death-toll-rises-to123-city-reports-425-fresh-cases-taking-tally-to-8-895/story-7KhV4ewplevU1Tp0n92ZaM.html \\n',\n",
       "  'pubDate': b'\\n Fri, 15 May 2020 01:32:22 GMT \\n',\n",
       "  'media': 'https://www.hindustantimes.com/rf/image_size_630x354/HT/p2/2020/05/15/Pictures/delhi-lockdown-covid-19-day-13_f4f5e48a-9696-11ea-b40c-d7c2b81d84c3.jpg'},\n",
       " {'title': b'\\n Virat Kohli, Rohit Sharma could remain stranded in Mumbai when India return to training,... \\n',\n",
       "  'description': b'\\n Speaking in an interview to news agency AFP, BCCI treasurer Arun Dhumal said: \\xe2\\x80\\x9cFor players like Kohli and Rohit, the restrictions are there in Mumbai and might stay.\\xe2\\x80\\x9d \\n',\n",
       "  'link': b'\\n https://www.hindustantimes.com/cricket/virat-kohli-rohit-sharma-could-remain-stranded-in-mumbai-when-india-return-to-training-says-bcci-official/story-TgEC9jqodMzKl4T77n3fPP.html \\n',\n",
       "  'guid': b'\\n https://www.hindustantimes.com/cricket/virat-kohli-rohit-sharma-could-remain-stranded-in-mumbai-when-india-return-to-training-says-bcci-official/story-TgEC9jqodMzKl4T77n3fPP.html \\n',\n",
       "  'pubDate': b'\\n Fri, 15 May 2020 12:16:17 GMT \\n',\n",
       "  'media': 'https://www.hindustantimes.com/rf/image_size_630x354/HT/p2/2020/05/15/Pictures/icc-cricket-awards-2020_f4b7dfc0-9699-11ea-b40c-d7c2b81d84c3.jpg'},\n",
       " {'title': b\"\\n 'My child has been crying, please let me go home': Migrant worker breaks down \\n\",\n",
       "  'description': b'\\n \\n',\n",
       "  'link': b'\\n https://www.hindustantimes.com/videos/coronavirus-crisis/my-child-has-been-crying-please-let-me-go-home-migrant-worker-breaks-down/video-j0AgIuZHgANlnZBspLoUcO.html \\n',\n",
       "  'guid': b'\\n https://www.hindustantimes.com/videos/coronavirus-crisis/my-child-has-been-crying-please-let-me-go-home-migrant-worker-breaks-down/video-j0AgIuZHgANlnZBspLoUcO.html \\n',\n",
       "  'pubDate': b'\\n Fri, 15 May 2020 09:38:36 GMT \\n',\n",
       "  'media': 'https://www.hindustantimes.com/rf/image_size_630x354/HT/p2/2020/05/15/Pictures/_13b54602-968f-11ea-a091-8eb61e4add3b.png'},\n",
       " {'title': b'\\n England spinner picks Babar Azam over Virat Kohli, gives reason for his choice \\n',\n",
       "  'description': b'\\n Rashid went ahead and picked the Pakistani middle order batsman over Kohli but clarified that his choice was based on current form. \\n',\n",
       "  'link': b'\\n https://www.hindustantimes.com/cricket/england-spinner-picks-babar-azam-over-virat-kohli-gives-reason-for-his-choice/story-Gx3b44gcFAwJ2WBse0iLBP.html \\n',\n",
       "  'guid': b'\\n https://www.hindustantimes.com/cricket/england-spinner-picks-babar-azam-over-virat-kohli-gives-reason-for-his-choice/story-Gx3b44gcFAwJ2WBse0iLBP.html \\n',\n",
       "  'pubDate': b'\\n Fri, 15 May 2020 08:18:38 GMT \\n',\n",
       "  'media': 'https://www.hindustantimes.com/rf/image_size_630x354/HT/p2/2020/05/15/Pictures/india-v-pakistan-icc-champions-trophy-final_76d8daac-9683-11ea-a091-8eb61e4add3b.jpg'}]"
      ]
     },
     "execution_count": 8,
     "metadata": {},
     "output_type": "execute_result"
    }
   ],
   "source": [
    "newsitems"
   ]
  },
  {
   "cell_type": "code",
   "execution_count": 9,
   "metadata": {},
   "outputs": [],
   "source": [
    "newsitems \n",
    "filename = 'topnews_1.csv'"
   ]
  },
  {
   "cell_type": "code",
   "execution_count": 10,
   "metadata": {},
   "outputs": [],
   "source": [
    "def savetoCSV(newsitems, filename): \n",
    "  \n",
    "    # specifying the fields for csv file \n",
    "    fields = ['guid', 'title', 'pubDate', 'description', 'link', 'media'] \n",
    "  \n",
    "    # writing to csv file \n",
    "    with open(filename, 'w') as csvfile: \n",
    "  \n",
    "        # creating a csv dict writer object \n",
    "        writer = csv.DictWriter(csvfile, fieldnames = fields) \n",
    "  \n",
    "        # writing headers (field names) \n",
    "        writer.writeheader() \n",
    "  \n",
    "        # writing data rows \n",
    "        writer.writerows(newsitems) "
   ]
  },
  {
   "cell_type": "code",
   "execution_count": null,
   "metadata": {},
   "outputs": [],
   "source": []
  },
  {
   "cell_type": "code",
   "execution_count": null,
   "metadata": {},
   "outputs": [],
   "source": []
  }
 ],
 "metadata": {
  "kernelspec": {
   "display_name": "Python 3",
   "language": "python",
   "name": "python3"
  },
  "language_info": {
   "codemirror_mode": {
    "name": "ipython",
    "version": 3
   },
   "file_extension": ".py",
   "mimetype": "text/x-python",
   "name": "python",
   "nbconvert_exporter": "python",
   "pygments_lexer": "ipython3",
   "version": "3.7.1"
  }
 },
 "nbformat": 4,
 "nbformat_minor": 2
}
