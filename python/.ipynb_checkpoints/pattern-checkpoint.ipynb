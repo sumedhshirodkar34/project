{
 "cells": [
  {
   "cell_type": "code",
   "execution_count": 162,
   "metadata": {},
   "outputs": [
    {
     "name": "stdout",
     "output_type": "stream",
     "text": [
      "\n",
      "555555555\n",
      "544444445\n",
      "543333345\n",
      "543222345\n",
      "543212345\n",
      "543212345\n",
      "543222345\n",
      "543333345\n",
      "544444445\n",
      "555555555"
     ]
    }
   ],
   "source": [
    "N = 5;\n",
    "for i in range(N, 0, -1):\n",
    "    print()\n",
    "    for j in range(N, i , -1):\n",
    "        print(j , end = '')\n",
    "    for j in range(0, ((i*2)-1), 1):\n",
    "        print((i) , end = '')\n",
    "    for j in range(i+1, N+1, 1):\n",
    "        print(j , end = '')\n",
    "for i in range(1, N+1, 1):\n",
    "    print()\n",
    "    for j in range(N,(i), -1):\n",
    "        print(j , end = '')\n",
    "    for j in range(0, ((i*2)-1), 1):\n",
    "        print((i) , end = '')\n",
    "    for j in range(i+1, N+1, 1):\n",
    "        print(j , end = '')"
   ]
  },
  {
   "cell_type": "code",
   "execution_count": 163,
   "metadata": {},
   "outputs": [
    {
     "name": "stdout",
     "output_type": "stream",
     "text": [
      "\n",
      "555555555\n",
      "544444445\n",
      "543333345\n",
      "543222345\n",
      "543212345"
     ]
    }
   ],
   "source": [
    "N = 5;\n",
    "for i in range(N, 0, -1):\n",
    "    print()\n",
    "    for j in range(N, i , -1):\n",
    "        print(j , end = '')\n",
    "    for j in range(0, ((i*2)-1), 1):\n",
    "        print((i) , end = '')\n",
    "    for j in range(i+1, N+1, 1):\n",
    "        print(j , end = '')\n"
   ]
  },
  {
   "cell_type": "code",
   "execution_count": 166,
   "metadata": {},
   "outputs": [
    {
     "name": "stdout",
     "output_type": "stream",
     "text": [
      "\n",
      "\n",
      "5\n",
      "45\n",
      "345\n",
      "2345"
     ]
    }
   ],
   "source": [
    "N = 5;\n",
    "for i in range(N, 0, -1):\n",
    "    print()\n",
    "    for j in range(i+1, N+1, 1):\n",
    "        print(j , end = '')\n",
    "    "
   ]
  },
  {
   "cell_type": "code",
   "execution_count": 171,
   "metadata": {},
   "outputs": [
    {
     "name": "stdout",
     "output_type": "stream",
     "text": [
      "Collecting pip\n",
      "  Downloading pip-20.2.3-py2.py3-none-any.whl (1.5 MB)\n",
      "Installing collected packages: pip\n",
      "  Attempting uninstall: pip\n",
      "    Found existing installation: pip 20.0.2\n",
      "    Uninstalling pip-20.0.2:\n",
      "      Successfully uninstalled pip-20.0.2\n",
      "Successfully installed pip-20.2.3\n"
     ]
    }
   ],
   "source": [
    "!python -m pip install --upgrade pip"
   ]
  },
  {
   "cell_type": "code",
   "execution_count": 172,
   "metadata": {},
   "outputs": [
    {
     "name": "stdout",
     "output_type": "stream",
     "text": [
      "Collecting goto\n",
      "  Using cached goto-0.1.3.tar.gz (7.2 kB)\n"
     ]
    },
    {
     "name": "stderr",
     "output_type": "stream",
     "text": [
      "    ERROR: Command errored out with exit status 1:\n",
      "     command: 'c:\\users\\lenovo\\appdata\\local\\programs\\python\\python37-32\\python.exe' -c 'import sys, setuptools, tokenize; sys.argv[0] = '\"'\"'C:\\\\Users\\\\lenovo\\\\AppData\\\\Local\\\\Temp\\\\pip-install-cf6qj3xl\\\\goto\\\\setup.py'\"'\"'; __file__='\"'\"'C:\\\\Users\\\\lenovo\\\\AppData\\\\Local\\\\Temp\\\\pip-install-cf6qj3xl\\\\goto\\\\setup.py'\"'\"';f=getattr(tokenize, '\"'\"'open'\"'\"', open)(__file__);code=f.read().replace('\"'\"'\\r\\n'\"'\"', '\"'\"'\\n'\"'\"');f.close();exec(compile(code, __file__, '\"'\"'exec'\"'\"'))' egg_info --egg-base 'C:\\Users\\lenovo\\AppData\\Local\\Temp\\pip-pip-egg-info-uzq1djqo'\n",
      "         cwd: C:\\Users\\lenovo\\AppData\\Local\\Temp\\pip-install-cf6qj3xl\\goto\\\n",
      "    Complete output (10 lines):\n",
      "    Traceback (most recent call last):\n",
      "      File \"<string>\", line 1, in <module>\n",
      "      File \"C:\\Users\\lenovo\\AppData\\Local\\Temp\\pip-install-cf6qj3xl\\goto\\setup.py\", line 3, in <module>\n",
      "        import goto\n",
      "      File \"C:\\Users\\lenovo\\AppData\\Local\\Temp\\pip-install-cf6qj3xl\\goto\\goto\\__init__.py\", line 10, in <module>\n",
      "        from . import goto\n",
      "      File \"C:\\Users\\lenovo\\AppData\\Local\\Temp\\pip-install-cf6qj3xl\\goto\\goto\\goto.py\", line 86\n",
      "        print '<<< [%02i] %s %s' % (_req_cnt, 'POST' if post else 'GET', url)\n",
      "                               ^\n",
      "    SyntaxError: invalid syntax\n",
      "    ----------------------------------------\n",
      "ERROR: Command errored out with exit status 1: python setup.py egg_info Check the logs for full command output.\n"
     ]
    }
   ],
   "source": [
    "!pip install goto"
   ]
  },
  {
   "cell_type": "code",
   "execution_count": 169,
   "metadata": {},
   "outputs": [
    {
     "ename": "ModuleNotFoundError",
     "evalue": "No module named 'goto'",
     "output_type": "error",
     "traceback": [
      "\u001b[1;31m---------------------------------------------------------------------------\u001b[0m",
      "\u001b[1;31mModuleNotFoundError\u001b[0m                       Traceback (most recent call last)",
      "\u001b[1;32m<ipython-input-169-339953494f54>\u001b[0m in \u001b[0;36m<module>\u001b[1;34m\u001b[0m\n\u001b[1;32m----> 1\u001b[1;33m \u001b[1;32mfrom\u001b[0m \u001b[0mgoto\u001b[0m \u001b[1;32mimport\u001b[0m \u001b[0mgoto\u001b[0m\u001b[1;33m,\u001b[0m \u001b[0mlabel\u001b[0m\u001b[1;33m\u001b[0m\u001b[1;33m\u001b[0m\u001b[0m\n\u001b[0m\u001b[0;32m      2\u001b[0m \u001b[1;33m\u001b[0m\u001b[0m\n\u001b[0;32m      3\u001b[0m \u001b[0mN\u001b[0m \u001b[1;33m=\u001b[0m \u001b[1;36m5\u001b[0m\u001b[1;33m;\u001b[0m\u001b[1;33m\u001b[0m\u001b[1;33m\u001b[0m\u001b[0m\n\u001b[0;32m      4\u001b[0m \u001b[0ml\u001b[0m \u001b[1;33m=\u001b[0m \u001b[1;36m0\u001b[0m\u001b[1;33m;\u001b[0m\u001b[1;33m\u001b[0m\u001b[1;33m\u001b[0m\u001b[0m\n\u001b[0;32m      5\u001b[0m \u001b[1;32mfor\u001b[0m \u001b[0mi\u001b[0m \u001b[1;32min\u001b[0m \u001b[0mrange\u001b[0m\u001b[1;33m(\u001b[0m\u001b[0mN\u001b[0m\u001b[1;33m,\u001b[0m \u001b[0ml\u001b[0m\u001b[1;33m,\u001b[0m \u001b[1;33m-\u001b[0m\u001b[1;36m1\u001b[0m\u001b[1;33m)\u001b[0m\u001b[1;33m:\u001b[0m\u001b[1;33m\u001b[0m\u001b[1;33m\u001b[0m\u001b[0m\n",
      "\u001b[1;31mModuleNotFoundError\u001b[0m: No module named 'goto'"
     ]
    }
   ],
   "source": [
    "from goto import goto, label\n",
    "\n",
    "N = 5;\n",
    "l = 0;\n",
    "for i in range(N, l, -1):\n",
    "    print()\n",
    "    for j in range(N, i , -1):\n",
    "        print(j , end = '')\n",
    "    for j in range(0, ((i*2)-1), 1):\n",
    "        print((i) , end = '')\n",
    "    for j in range(i+1, N+1, 1):\n",
    "        print(j , end = '')\n",
    "l=N;\n",
    "N=1;\n",
    "label.begin"
   ]
  },
  {
   "cell_type": "code",
   "execution_count": null,
   "metadata": {},
   "outputs": [],
   "source": []
  }
 ],
 "metadata": {
  "kernelspec": {
   "display_name": "Python 3",
   "language": "python",
   "name": "python3"
  },
  "language_info": {
   "codemirror_mode": {
    "name": "ipython",
    "version": 3
   },
   "file_extension": ".py",
   "mimetype": "text/x-python",
   "name": "python",
   "nbconvert_exporter": "python",
   "pygments_lexer": "ipython3",
   "version": "3.7.1"
  }
 },
 "nbformat": 4,
 "nbformat_minor": 2
}
