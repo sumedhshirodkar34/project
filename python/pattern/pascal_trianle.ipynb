{
 "cells": [
  {
   "cell_type": "code",
   "execution_count": null,
   "metadata": {},
   "outputs": [],
   "source": [
    "'''\n",
    "to find any element in pascal triangle \n",
    "use formula \n",
    "nCr = (n!/((n-r)!)*r!\n",
    "''' "
   ]
  },
  {
   "cell_type": "code",
   "execution_count": 77,
   "metadata": {},
   "outputs": [],
   "source": [
    "from functools import reduce\n",
    "import math"
   ]
  },
  {
   "cell_type": "code",
   "execution_count": 123,
   "metadata": {},
   "outputs": [
    {
     "data": {
      "text/plain": [
       "35"
      ]
     },
     "execution_count": 123,
     "metadata": {},
     "output_type": "execute_result"
    }
   ],
   "source": [
    "i=7;\n",
    "j=3;\n",
    "a = math.factorial(i)\n",
    "b = math.factorial(i-j)\n",
    "c = math.factorial(j)\n",
    "int(a/(b*c))"
   ]
  },
  {
   "cell_type": "code",
   "execution_count": 125,
   "metadata": {},
   "outputs": [
    {
     "name": "stdout",
     "output_type": "stream",
     "text": [
      "\n",
      "1|1|\n",
      "1|2|1|\n",
      "1|3|3|1|\n",
      "1|4|6|4|1|\n",
      "1|5|10|10|5|1|\n",
      "1|6|15|20|15|6|1|\n",
      "1|7|21|35|35|21|7|1|\n",
      "1|8|28|56|70|56|28|8|1|"
     ]
    }
   ],
   "source": [
    "N=8;\n",
    "for i in range(1,N+1,1):\n",
    "    print()\n",
    "    for j in range(0,i+1,1):\n",
    "        a = math.factorial(i);\n",
    "        b = math.factorial(i-j);\n",
    "        c = math.factorial(j);\n",
    "        d = a/(b*c);\n",
    "        print(int(d) , end='|')\n",
    "        "
   ]
  },
  {
   "cell_type": "code",
   "execution_count": null,
   "metadata": {},
   "outputs": [],
   "source": []
  }
 ],
 "metadata": {
  "kernelspec": {
   "display_name": "Python 3",
   "language": "python",
   "name": "python3"
  },
  "language_info": {
   "codemirror_mode": {
    "name": "ipython",
    "version": 3
   },
   "file_extension": ".py",
   "mimetype": "text/x-python",
   "name": "python",
   "nbconvert_exporter": "python",
   "pygments_lexer": "ipython3",
   "version": "3.7.1"
  }
 },
 "nbformat": 4,
 "nbformat_minor": 2
}
