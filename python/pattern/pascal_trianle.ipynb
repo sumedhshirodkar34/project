{
 "cells": [
  {
   "cell_type": "code",
   "execution_count": null,
   "metadata": {},
   "outputs": [],
   "source": [
    "'''\n",
    "to find any element in pascal triangle \n",
    "use formula \n",
    "nCr = (n!/((n-r)!)*r!\n",
    "'''"
   ]
  },
  {
   "cell_type": "code",
   "execution_count": 77,
   "metadata": {},
   "outputs": [],
   "source": [
    "from functools import reduce\n",
    "import math"
   ]
  },
  {
   "cell_type": "code",
   "execution_count": 124,
   "metadata": {},
   "outputs": [
    {
     "name": "stdout",
     "output_type": "stream",
     "text": [
      "\n",
      "11\n",
      "121\n",
      "1331\n",
      "14641\n",
      "15101051\n",
      "1615201561\n",
      "172135352171\n",
      "18285670562881"
     ]
    }
   ],
   "source": [
    "N=8;\n",
    "for i in range(1,N+1,1):\n",
    "    print()\n",
    "    for j in range(0,i+1,1):\n",
    "        a = math.factorial(i);\n",
    "        b = math.factorial(i-j);\n",
    "        c = math.factorial(j);\n",
    "        d = a/(b*c);\n",
    "        print(int(d) , end='')\n",
    "        "
   ]
  },
  {
   "cell_type": "code",
   "execution_count": 123,
   "metadata": {},
   "outputs": [
    {
     "data": {
      "text/plain": [
       "35"
      ]
     },
     "execution_count": 123,
     "metadata": {},
     "output_type": "execute_result"
    }
   ],
   "source": [
    "i=7;\n",
    "j=3;\n",
    "a = math.factorial(i)\n",
    "b = math.factorial(i-j)\n",
    "c = math.factorial(j)\n",
    "int(a/(b*c))"
   ]
  },
  {
   "cell_type": "code",
   "execution_count": null,
   "metadata": {},
   "outputs": [],
   "source": []
  }
 ],
 "metadata": {
  "kernelspec": {
   "display_name": "Python 3",
   "language": "python",
   "name": "python3"
  },
  "language_info": {
   "codemirror_mode": {
    "name": "ipython",
    "version": 3
   },
   "file_extension": ".py",
   "mimetype": "text/x-python",
   "name": "python",
   "nbconvert_exporter": "python",
   "pygments_lexer": "ipython3",
   "version": "3.7.1"
  }
 },
 "nbformat": 4,
 "nbformat_minor": 2
}
