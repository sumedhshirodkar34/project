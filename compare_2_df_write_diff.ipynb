{
 "cells": [
  {
   "cell_type": "code",
   "execution_count": 8,
   "metadata": {},
   "outputs": [],
   "source": [
    "import pandas as pd\n",
    "import csv"
   ]
  },
  {
   "cell_type": "code",
   "execution_count": 9,
   "metadata": {},
   "outputs": [],
   "source": [
    "df7 = pd.read_csv('game_1.csv')\n",
    "df7.columns = df7.columns.str.lower()\n",
    "#df7"
   ]
  },
  {
   "cell_type": "code",
   "execution_count": 10,
   "metadata": {},
   "outputs": [],
   "source": [
    "df8 = pd.read_csv('game_5.dat',sep = '|')\n",
    "#df8"
   ]
  },
  {
   "cell_type": "code",
   "execution_count": 11,
   "metadata": {},
   "outputs": [],
   "source": [
    "comparison_df_mix = df7.merge(df8,indicator=True, how='outer')"
   ]
  },
  {
   "cell_type": "code",
   "execution_count": 12,
   "metadata": {},
   "outputs": [],
   "source": [
    "comparison_df_filter = comparison_df_mix.loc[lambda x : x['_merge']!='both']"
   ]
  },
  {
   "cell_type": "code",
   "execution_count": 13,
   "metadata": {},
   "outputs": [],
   "source": [
    "#comparison_df_filter"
   ]
  },
  {
   "cell_type": "code",
   "execution_count": 14,
   "metadata": {},
   "outputs": [],
   "source": [
    "with open('notMatched_final_2.csv', 'w', newline='') as file:\n",
    "    writer = csv.writer(file , delimiter=',')\n",
    "    for name, group in comparison_df_filter.groupby('game_id'):\n",
    "        for i in range(len(group)) :\n",
    "            if(i < len(group)-1):\n",
    "                for j in range(len(group.columns)) :\n",
    "                    if(j < len(group.columns) -1):\n",
    "                        if(group.iloc[i, j] != group.iloc[i+1, j]):\n",
    "                            row = name , ' not matched ' , ' coulmn name ', group.columns[j], ' value ',(group.iloc[i, j],group.iloc[i+1, j])\n",
    "                            writer.writerow(row)\n",
    "                        "
   ]
  },
  {
   "cell_type": "code",
   "execution_count": null,
   "metadata": {},
   "outputs": [],
   "source": []
  }
 ],
 "metadata": {
  "kernelspec": {
   "display_name": "Python 3",
   "language": "python",
   "name": "python3"
  },
  "language_info": {
   "codemirror_mode": {
    "name": "ipython",
    "version": 3
   },
   "file_extension": ".py",
   "mimetype": "text/x-python",
   "name": "python",
   "nbconvert_exporter": "python",
   "pygments_lexer": "ipython3",
   "version": "3.7.1"
  }
 },
 "nbformat": 4,
 "nbformat_minor": 2
}
